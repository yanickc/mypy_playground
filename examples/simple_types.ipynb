{
 "cells": [
  {
   "cell_type": "code",
   "execution_count": 3,
   "metadata": {
    "collapsed": false
   },
   "outputs": [
    {
     "name": "stdout",
     "output_type": "stream",
     "text": [
      "allobonhomme\n3\n"
     ]
    },
    {
     "ename": "TypeError",
     "evalue": "unsupported operand type(s) for +: 'int' and 'str'",
     "traceback": [
      "\u001b[0;31m---------------------------------------------------------------------------\u001b[0m",
      "\u001b[0;31mTypeError\u001b[0m                                 Traceback (most recent call last)",
      "\u001b[0;32m<ipython-input-3-b737c3c5a2ba>\u001b[0m in \u001b[0;36m<module>\u001b[0;34m()\u001b[0m\n\u001b[1;32m     15\u001b[0m \u001b[0mprint\u001b[0m\u001b[0;34m(\u001b[0m\u001b[0madd_this\u001b[0m\u001b[0;34m(\u001b[0m\u001b[0;34m\"allo\"\u001b[0m\u001b[0;34m,\u001b[0m \u001b[0;34m\"bonhomme\"\u001b[0m\u001b[0;34m)\u001b[0m\u001b[0;34m)\u001b[0m\u001b[0;34m\u001b[0m\u001b[0m\n\u001b[1;32m     16\u001b[0m \u001b[0mprint\u001b[0m\u001b[0;34m(\u001b[0m\u001b[0madd_this\u001b[0m\u001b[0;34m(\u001b[0m\u001b[0;36m1\u001b[0m\u001b[0;34m,\u001b[0m \u001b[0;36m2\u001b[0m\u001b[0;34m)\u001b[0m\u001b[0;34m)\u001b[0m\u001b[0;34m\u001b[0m\u001b[0m\n\u001b[0;32m---> 17\u001b[0;31m \u001b[0mprint\u001b[0m\u001b[0;34m(\u001b[0m\u001b[0madd_this\u001b[0m\u001b[0;34m(\u001b[0m\u001b[0;36m123\u001b[0m\u001b[0;34m,\u001b[0m \u001b[0;34m\"456\"\u001b[0m\u001b[0;34m)\u001b[0m\u001b[0;34m)\u001b[0m\u001b[0;34m\u001b[0m\u001b[0m\n\u001b[0m",
      "\u001b[0;32m<ipython-input-3-b737c3c5a2ba>\u001b[0m in \u001b[0;36madd_this\u001b[0;34m(a, b)\u001b[0m\n\u001b[1;32m     10\u001b[0m \u001b[0;34m\u001b[0m\u001b[0m\n\u001b[1;32m     11\u001b[0m \u001b[0;32mdef\u001b[0m \u001b[0madd_this\u001b[0m\u001b[0;34m(\u001b[0m\u001b[0ma\u001b[0m\u001b[0;34m,\u001b[0m \u001b[0mb\u001b[0m\u001b[0;34m)\u001b[0m\u001b[0;34m:\u001b[0m\u001b[0;34m\u001b[0m\u001b[0m\n\u001b[0;32m---> 12\u001b[0;31m     \u001b[0;32mreturn\u001b[0m \u001b[0ma\u001b[0m \u001b[0;34m+\u001b[0m \u001b[0mb\u001b[0m\u001b[0;34m\u001b[0m\u001b[0m\n\u001b[0m\u001b[1;32m     13\u001b[0m \u001b[0;34m\u001b[0m\u001b[0m\n\u001b[1;32m     14\u001b[0m \u001b[0;34m\u001b[0m\u001b[0m\n",
      "\u001b[0;31mTypeError\u001b[0m: unsupported operand type(s) for +: 'int' and 'str'"
     ],
     "output_type": "error"
    }
   ],
   "source": [
    "%%checktypes --incremental\n",
    "\n",
    "# %%checktypes above is a custom ipython _magic_.  See ./ipython_magic_script/checktypes.py\n",
    "# \n",
    "# Note: in Jupyter notebooks, in command mode, Ctrl-M + L, shows line numbers.\n",
    "\n",
    "# MyPy only checks already annotated code by default.\n",
    "# The special `Any` type is inferred by default.\n",
    "\n",
    "\n",
    "def add_this(a, b):\n",
    "    return a + b\n",
    "\n",
    "\n",
    "print(add_this(\"allo\", \"bonhomme\"))\n",
    "print(add_this(1, 2))\n",
    "print(add_this(123, \"456\"))  # TypeError: unsupported operand type(s) for +: 'int' and 'str'"
   ]
  },
  {
   "cell_type": "code",
   "execution_count": 6,
   "metadata": {},
   "outputs": [
    {
     "name": "stdout",
     "output_type": "stream",
     "text": [
      "<string>:15: error: Argument 1 to \"add_with_types\" has incompatible type \"str\"; expected \"int\"\n<string>:15: error: Argument 2 to \"add_with_types\" has incompatible type \"str\"; expected \"int\"\n<string>:18: error: Argument 2 to \"add_with_types\" has incompatible type \"str\"; expected \"int\"\n\n3\nallobonhomme\n"
     ]
    },
    {
     "ename": "TypeError",
     "evalue": "unsupported operand type(s) for +: 'int' and 'str'",
     "traceback": [
      "\u001b[0;31m---------------------------------------------------------------------------\u001b[0m",
      "\u001b[0;31mTypeError\u001b[0m                                 Traceback (most recent call last)",
      "\u001b[0;32m<ipython-input-6-8f8ac195be0d>\u001b[0m in \u001b[0;36m<module>\u001b[0;34m()\u001b[0m\n\u001b[1;32m     16\u001b[0m                                            \u001b[0;31m# error: Argument 2 to \"add_with_types\" has incompatible type \"str\"; expected \"int\"\u001b[0m\u001b[0;34m\u001b[0m\u001b[0;34m\u001b[0m\u001b[0m\n\u001b[1;32m     17\u001b[0m \u001b[0;34m\u001b[0m\u001b[0m\n\u001b[0;32m---> 18\u001b[0;31m \u001b[0mprint\u001b[0m\u001b[0;34m(\u001b[0m\u001b[0madd_with_types\u001b[0m\u001b[0;34m(\u001b[0m\u001b[0;36m123\u001b[0m\u001b[0;34m,\u001b[0m \u001b[0;34m\"456\"\u001b[0m\u001b[0;34m)\u001b[0m\u001b[0;34m)\u001b[0m  \u001b[0;31m#error: Argument 2 to \"add_with_types\" has incompatible type \"str\"; expected \"int\"\u001b[0m\u001b[0;34m\u001b[0m\u001b[0m\n\u001b[0m\u001b[1;32m     19\u001b[0m \u001b[0;34m\u001b[0m\u001b[0m\n\u001b[1;32m     20\u001b[0m \u001b[0;31m# Note how this will produce a runtime error, but no warning from MyPy\u001b[0m\u001b[0;34m\u001b[0m\u001b[0;34m\u001b[0m\u001b[0m\n",
      "\u001b[0;32m<ipython-input-6-8f8ac195be0d>\u001b[0m in \u001b[0;36madd_with_types\u001b[0;34m(a, b)\u001b[0m\n\u001b[1;32m      9\u001b[0m \u001b[0;34m\u001b[0m\u001b[0m\n\u001b[1;32m     10\u001b[0m \u001b[0;32mdef\u001b[0m \u001b[0madd_with_types\u001b[0m\u001b[0;34m(\u001b[0m\u001b[0ma\u001b[0m\u001b[0;34m:\u001b[0m \u001b[0mint\u001b[0m\u001b[0;34m,\u001b[0m \u001b[0mb\u001b[0m\u001b[0;34m:\u001b[0m \u001b[0mint\u001b[0m\u001b[0;34m)\u001b[0m\u001b[0;34m:\u001b[0m  \u001b[0;31m# Notice the missing return value type hint... See below\u001b[0m\u001b[0;34m\u001b[0m\u001b[0m\n\u001b[0;32m---> 11\u001b[0;31m     \u001b[0;32mreturn\u001b[0m \u001b[0ma\u001b[0m \u001b[0;34m+\u001b[0m \u001b[0mb\u001b[0m\u001b[0;34m\u001b[0m\u001b[0m\n\u001b[0m\u001b[1;32m     12\u001b[0m \u001b[0;34m\u001b[0m\u001b[0m\n\u001b[1;32m     13\u001b[0m \u001b[0;34m\u001b[0m\u001b[0m\n",
      "\u001b[0;31mTypeError\u001b[0m: unsupported operand type(s) for +: 'int' and 'str'"
     ],
     "output_type": "error"
    }
   ],
   "source": [
    "%%checktypes --incremental\n",
    "\n",
    "# MyPy will check parameters once we specify types somewhere\n",
    "\n",
    "\n",
    "def add_this(a, b):\n",
    "    return a + b\n",
    "\n",
    "\n",
    "def add_with_types(a: int, b: int):  # Notice the missing return value type hint... See below  \n",
    "    return a + b\n",
    "\n",
    "\n",
    "print(add_with_types(1, 2))   \n",
    "print(add_with_types(\"allo\", \"bonhomme\"))  # error: Argument 1 to \"add_with_types\" has incompatible type \"str\"; expected \"int\"\n",
    "                                           # error: Argument 2 to \"add_with_types\" has incompatible type \"str\"; expected \"int\"\n",
    "\n",
    "print(add_with_types(123, \"456\"))  #error: Argument 2 to \"add_with_types\" has incompatible type \"str\"; expected \"int\"\n",
    "\n",
    "# Note how this will produce a runtime error, but no warning from MyPy\n",
    "# Typing variables is not enough here since add_this() is not typed (Used `Any` by default).  \n",
    "x: int = 123\n",
    "y: str = \"456\"\n",
    "print(add_this(x, y))\n"
   ]
  },
  {
   "cell_type": "code",
   "execution_count": 14,
   "metadata": {},
   "outputs": [
    {
     "name": "stdout",
     "output_type": "stream",
     "text": [
      "<string>:4: error: Function is missing a return type annotation\n<string>:8: error: Argument 1 to \"add_this\" has incompatible type \"str\"; expected \"int\"\n<string>:8: error: Argument 2 to \"add_this\" has incompatible type \"str\"; expected \"int\"\n\nallobonhomme\n3\n"
     ]
    }
   ],
   "source": [
    "%%checktypes --incremental --strict\n",
    "\n",
    "\n",
    "def add_this(a: int, b: int): # With `--strict`, we get:   error: Function is missing a return type annotation\n",
    "    return a + b\n",
    "\n",
    "\n",
    "print(add_this(\"allo\", \"bonhomme\")) # error: Argument 1 to \"add_this\" has incompatible type \"str\"; expected \"int\"\n",
    "                                    # error: Argument 2 to \"add_this\" has incompatible type \"str\"; expected \"int\"\n",
    "print(add_this(1,2))\n",
    "\n"
   ]
  },
  {
   "cell_type": "code",
   "execution_count": 18,
   "metadata": {},
   "outputs": [
    {
     "name": "stdout",
     "output_type": "stream",
     "text": [
      "<string>:18: error: Argument 1 to \"add_this\" has incompatible type \"float\"; expected \"int\"\n<string>:18: error: Argument 2 to \"add_this\" has incompatible type \"float\"; expected \"int\"\n\n5.85987\n5\n5.85987\n"
     ]
    }
   ],
   "source": [
    "%%checktypes --incremental\n",
    "\n",
    "# Duck typing\n",
    "# MyPy supports type equivalence for simple types: int, float, complex\n",
    "# See also: classes_structural_subtyping_and_some_more_beers.py\n",
    "\n",
    "\n",
    "def add_these_floats(a: float, b: float) -> float:\n",
    "    return a + b\n",
    "\n",
    "\n",
    "print(add_these_floats(2.71828, 3.14159))\n",
    "print(add_these_floats(2, 3))  # Nothing to see here\n",
    "\n",
    "def add_this(a: int, b: int) -> float:\n",
    "    return a + b\n",
    "\n",
    "print(add_this(2.71828, 3.14159)) # error: Argument 1 to \"add_this\" has incompatible type \"float\"; expected \"int\"\n",
    "                                  # error: Argument 2 to \"add_this\" has incompatible type \"float\"; expected \"int\"\n"
   ]
  },
  {
   "cell_type": "code",
   "execution_count": null,
   "metadata": {},
   "outputs": [],
   "source": []
  }
 ],
 "metadata": {
  "kernelspec": {
   "display_name": "Python 2",
   "language": "python",
   "name": "python2"
  },
  "language_info": {
   "codemirror_mode": {
    "name": "ipython",
    "version": 2
   },
   "file_extension": ".py",
   "mimetype": "text/x-python",
   "name": "python",
   "nbconvert_exporter": "python",
   "pygments_lexer": "ipython2",
   "version": "2.7.6"
  }
 },
 "nbformat": 4,
 "nbformat_minor": 0
}
