{
 "cells": [
  {
   "cell_type": "markdown",
   "metadata": {},
   "source": [
    "\n",
    "What is MyPY?\n",
    "\tMyPy is a standalone typechecker which uses a bunch of the new features in \n",
    "\tPython 3 to make the language more friendly to us type-lovers.\n",
    "\t-- http://ashaindlin.com/2016/02/MyPy-Tutorial/\n",
    "\n",
    "Are you a type lover? Is it at all necessary?\n",
    "\n",
    "Let's dive it typing hints...\n",
    "\n"
   ]
  },
  {
   "cell_type": "code",
   "execution_count": 2,
   "metadata": {},
   "outputs": [
    {
     "name": "stdout",
     "output_type": "stream",
     "text": [
      "allobonhomme\n",
      "3\n"
     ]
    }
   ],
   "source": [
    "%%typecheck --incremental\n",
    "# %%mypy is a custom ipython _magic_.  See ./ipython_magic_script/typecheck.py\n",
    "# \n",
    "# Also, in Jupyter notebooks, in command mode, Ctrl-M + L, shows line numbers.\n",
    "\n",
    "\n",
    "def add_this(a, b):\n",
    "    return a + b\n",
    "\n",
    "\n",
    "print(add_this(\"allo\", \"bonhomme\"))\n",
    "print(add_this(1, 2))\n"
   ]
  },
  {
   "cell_type": "code",
   "execution_count": 2,
   "metadata": {},
   "outputs": [
    {
     "name": "stdout",
     "output_type": "stream",
     "text": [
      "allobonhomme\n",
      "3\n"
     ]
    }
   ],
   "source": [
    "def add_this(a: int, b: int):\n",
    "    return a + b\n",
    "\n",
    "\n",
    "print(add_this(\"allo\", \"bonhomme\"))\n",
    "print(add_this(1,2))"
   ]
  },
  {
   "cell_type": "code",
   "execution_count": 3,
   "metadata": {},
   "outputs": [
    {
     "name": "stderr",
     "output_type": "stream",
     "text": [
      "ERROR:root:Cell magic `%%mypy` not found.\n"
     ]
    }
   ],
   "source": [
    "%%mypy --incremental\n",
    "\n",
    "\n",
    "def name() -> str:\n",
    "    return \"Toupie\"\n",
    "\n",
    "\n",
    "s = name()\n",
    "print(s)\n",
    "\n",
    "\n",
    "# Mypy will infer the first assignment as the variable's type\n",
    "f = 123\n",
    "f = name()"
   ]
  },
  {
   "cell_type": "code",
   "execution_count": null,
   "metadata": {},
   "outputs": [
    {
     "name": "stderr",
     "output_type": "stream",
     "text": [
      "ERROR:root:Cell magic `%%mypy` not found.\n"
     ]
    }
   ],
   "source": [
    "%%mypy --incremental\n",
    "\n",
    "from typing import cast\n",
    "#reveal_type(1)\n"
   ]
  },
  {
   "cell_type": "code",
   "execution_count": null,
   "metadata": {},
   "outputs": [],
   "source": []
  }
 ],
 "metadata": {
  "kernelspec": {
   "display_name": "Python 3",
   "language": "python",
   "name": "python3"
  },
  "language_info": {
   "codemirror_mode": {
    "name": "ipython",
    "version": 3
   },
   "file_extension": ".py",
   "mimetype": "text/x-python",
   "name": "python",
   "nbconvert_exporter": "python",
   "pygments_lexer": "ipython3",
   "version": "3.6.4"
  }
 },
 "nbformat": 4,
 "nbformat_minor": 1
}
